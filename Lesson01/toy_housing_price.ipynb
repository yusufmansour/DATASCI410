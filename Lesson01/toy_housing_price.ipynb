{
 "cells": [
  {
   "cell_type": "code",
   "execution_count": 249,
   "metadata": {
    "collapsed": true
   },
   "outputs": [],
   "source": [
    "import numpy as np \n",
    "import pandas as pd\n",
    "import matplotlib.pyplot as plt\n",
    "from scipy.stats import skewnorm\n"
   ]
  },
  {
   "cell_type": "code",
   "execution_count": 250,
   "metadata": {
    "collapsed": true
   },
   "outputs": [],
   "source": [
    "# generate data set from city A\n",
    "mode1 = 300 + 50 *np.random.randn(950) # regular homes\n",
    "mode2 = 3000 + 20 *np.random.randn(50)  # luxury homes\n",
    "\n",
    "#combine both data modes into 1 array\n",
    "pricesA = np.append(mode1, mode2) \n",
    "labelsA = [\"A\"]* pricesA.shape[0]\n",
    "\n",
    "np.random.shuffle(dataA)\n"
   ]
  },
  {
   "cell_type": "code",
   "execution_count": 251,
   "metadata": {
    "collapsed": true
   },
   "outputs": [],
   "source": [
    "\n",
    "# generate data set from city B\n",
    "pricesB = 400 + 50 *np.random.randn(1000)\n",
    "labelsB = [\"B\"]* pricesA.shape[0]"
   ]
  },
  {
   "cell_type": "code",
   "execution_count": 252,
   "metadata": {
    "collapsed": true
   },
   "outputs": [],
   "source": [
    "#combine both city's data sets\n",
    "price = np.append(pricesA,pricesB)\n",
    "labels = labelsA + labelsB"
   ]
  },
  {
   "cell_type": "code",
   "execution_count": 253,
   "metadata": {
    "collapsed": true
   },
   "outputs": [],
   "source": [
    "# create a data frame of labels and prices, then shuffle the data with the .sample() method to make the data seem more real.\n",
    "\n",
    "df = pd.DataFrame({ \"city\": labels, \"price\": price}, columns=[\"city\", \"price\"]).sample(frac=1)"
   ]
  },
  {
   "cell_type": "code",
   "execution_count": 254,
   "metadata": {},
   "outputs": [
    {
     "data": {
      "text/html": [
       "<div>\n",
       "<table border=\"1\" class=\"dataframe\">\n",
       "  <thead>\n",
       "    <tr style=\"text-align: right;\">\n",
       "      <th></th>\n",
       "      <th>city</th>\n",
       "      <th>price</th>\n",
       "    </tr>\n",
       "  </thead>\n",
       "  <tbody>\n",
       "    <tr>\n",
       "      <th>234</th>\n",
       "      <td>A</td>\n",
       "      <td>310.298810</td>\n",
       "    </tr>\n",
       "    <tr>\n",
       "      <th>741</th>\n",
       "      <td>A</td>\n",
       "      <td>361.087943</td>\n",
       "    </tr>\n",
       "    <tr>\n",
       "      <th>748</th>\n",
       "      <td>A</td>\n",
       "      <td>348.893924</td>\n",
       "    </tr>\n",
       "    <tr>\n",
       "      <th>252</th>\n",
       "      <td>A</td>\n",
       "      <td>234.284950</td>\n",
       "    </tr>\n",
       "    <tr>\n",
       "      <th>1702</th>\n",
       "      <td>B</td>\n",
       "      <td>362.941942</td>\n",
       "    </tr>\n",
       "    <tr>\n",
       "      <th>1831</th>\n",
       "      <td>B</td>\n",
       "      <td>495.428107</td>\n",
       "    </tr>\n",
       "    <tr>\n",
       "      <th>623</th>\n",
       "      <td>A</td>\n",
       "      <td>255.443132</td>\n",
       "    </tr>\n",
       "    <tr>\n",
       "      <th>806</th>\n",
       "      <td>A</td>\n",
       "      <td>340.852790</td>\n",
       "    </tr>\n",
       "    <tr>\n",
       "      <th>849</th>\n",
       "      <td>A</td>\n",
       "      <td>321.138797</td>\n",
       "    </tr>\n",
       "    <tr>\n",
       "      <th>1921</th>\n",
       "      <td>B</td>\n",
       "      <td>460.279122</td>\n",
       "    </tr>\n",
       "  </tbody>\n",
       "</table>\n",
       "</div>"
      ],
      "text/plain": [
       "     city       price\n",
       "234     A  310.298810\n",
       "741     A  361.087943\n",
       "748     A  348.893924\n",
       "252     A  234.284950\n",
       "1702    B  362.941942\n",
       "1831    B  495.428107\n",
       "623     A  255.443132\n",
       "806     A  340.852790\n",
       "849     A  321.138797\n",
       "1921    B  460.279122"
      ]
     },
     "execution_count": 254,
     "metadata": {},
     "output_type": "execute_result"
    }
   ],
   "source": [
    "df.head(10)"
   ]
  },
  {
   "cell_type": "code",
   "execution_count": 267,
   "metadata": {},
   "outputs": [
    {
     "data": {
      "text/plain": [
       "Text(0,0.5,'average price ( in $1000s)')"
      ]
     },
     "execution_count": 267,
     "metadata": {},
     "output_type": "execute_result"
    },
    {
     "data": {
      "image/png": "[encoded data removed]",
      "text/plain": [
       "<matplotlib.figure.Figure at 0x2265ba69400>"
      ]
     },
     "metadata": {},
     "output_type": "display_data"
    }
   ],
   "source": [
    "%matplotlib inline\n",
    "\n",
    "# deceptive bar plot\n",
    "\n",
    "fig = plt.figure(figsize=(6, 6))\n",
    "ax = fig.gca()\n",
    "#show bar plot of means with altered axis\n",
    "plt.bar(\"A\",df['price'][df['city'] == 'A'].mean())\n",
    "plt.bar(\"B\",df['price'][df['city'] == 'B'].mean())\n",
    "ax.set_ylim(390,450)\n",
    "\n",
    "# add title\n",
    "plt.title(\"Housing Price Comparison\")\n",
    "\n",
    "# add axis labels\n",
    "ax.set_xlabel(\"city\")\n",
    "ax.set_ylabel(\"average price ( in $1000s)\")\n",
    "\n",
    "## multiple issues with this approach:\n",
    "# mean alone is not an appropraite representaion of a sample of data, its'a also good to look at the other statistics, median, standard deviation\n",
    "# a bar plot is inappropriate for this visualization\n",
    "# starting the y-axis far above zero emphasizes a difference in mean when one may not exist \n"
   ]
  },
  {
   "cell_type": "code",
   "execution_count": 256,
   "metadata": {},
   "outputs": [
    {
     "data": {
      "text/plain": [
       "count    1000.000000\n",
       "mean      436.340879\n",
       "std       589.382017\n",
       "min       115.044549\n",
       "25%       268.837491\n",
       "50%       307.472234\n",
       "75%       341.960577\n",
       "max      3030.190381\n",
       "Name: price, dtype: float64"
      ]
     },
     "execution_count": 256,
     "metadata": {},
     "output_type": "execute_result"
    }
   ],
   "source": [
    "# summary statistics on city A\n",
    "df['price'][df['city'] == 'A'].describe()"
   ]
  },
  {
   "cell_type": "code",
   "execution_count": 257,
   "metadata": {},
   "outputs": [
    {
     "data": {
      "text/plain": [
       "count    1000.000000\n",
       "mean      400.004139\n",
       "std        51.061777\n",
       "min       230.209621\n",
       "25%       366.228872\n",
       "50%       398.363076\n",
       "75%       437.292576\n",
       "max       564.110694\n",
       "Name: price, dtype: float64"
      ]
     },
     "execution_count": 257,
     "metadata": {},
     "output_type": "execute_result"
    }
   ],
   "source": [
    "# summary statistics on city B\n",
    "df['price'][df['city'] == 'B'].describe()"
   ]
  },
  {
   "cell_type": "code",
   "execution_count": 258,
   "metadata": {
    "collapsed": true
   },
   "outputs": [],
   "source": [
    "#prepare data for box plot\n",
    "plotdata = [df['price'][df['city'] == 'A'], df['price'][df['city'] == 'B']]\n",
    "boxplot_labels = ['A', 'B']"
   ]
  },
  {
   "cell_type": "code",
   "execution_count": 259,
   "metadata": {},
   "outputs": [
    {
     "data": {
      "text/plain": [
       "([<matplotlib.axis.XTick at 0x2265bdd5ac8>,\n",
       "  <matplotlib.axis.XTick at 0x2265bdd9d68>],\n",
       " <a list of 2 Text xticklabel objects>)"
      ]
     },
     "execution_count": 259,
     "metadata": {},
     "output_type": "execute_result"
    },
    {
     "data": {
      "image/png": "[encoded data removed]",
      "text/plain": [
       "<matplotlib.figure.Figure at 0x2265bd0f588>"
      ]
     },
     "metadata": {},
     "output_type": "display_data"
    }
   ],
   "source": [
    "#create box plot\n",
    "\n",
    "fig = plt.figure(figsize=(6,6))\n",
    "ax = fig.gca()\n",
    "ax.boxplot(plotdata)\n",
    "plt.xticks([1, 2], boxplot_labels)"
   ]
  },
  {
   "cell_type": "code",
   "execution_count": 260,
   "metadata": {},
   "outputs": [
    {
     "data": {
      "text/plain": [
       "([<matplotlib.axis.XTick at 0x2265be4dbe0>,\n",
       "  <matplotlib.axis.XTick at 0x2265be3ae48>],\n",
       " <a list of 2 Text xticklabel objects>)"
      ]
     },
     "execution_count": 260,
     "metadata": {},
     "output_type": "execute_result"
    },
    {
     "data": {
      "image/png": "[encoded data removed]",
      "text/plain": [
       "<matplotlib.figure.Figure at 0x2265be0e940>"
      ]
     },
     "metadata": {},
     "output_type": "display_data"
    }
   ],
   "source": [
    "## create a plot that's a little better to view\n",
    "from matplotlib import gridspec\n",
    "\n",
    "#create subplots\n",
    "#f, (ax, ax2) = plt.subplots(2, 1, sharex=True, figsize=(6,12))\n",
    "fig = plt.figure(figsize=(6, 12))\n",
    "gs = gridspec.GridSpec(2, 1, height_ratios=[1, 3]) \n",
    "ax = plt.subplot(gs[0])\n",
    "ax2 = plt.subplot(gs[1])\n",
    "\n",
    "#plot the same data in both subplots\n",
    "ax.boxplot(plotdata)\n",
    "ax2.boxplot(plotdata)\n",
    "\n",
    "#zoom in to different parts\n",
    "ax.set_ylim(2900, 3100)  # outliers only\n",
    "ax2.set_ylim(0, 600)  # most of the data\n",
    "\n",
    "# hide the spines between ax and ax2\n",
    "ax.spines['bottom'].set_visible(False)\n",
    "ax2.spines['top'].set_visible(False)\n",
    "ax.xaxis.tick_top()\n",
    "plt.xticks([1, 2], boxplot_labels)"
   ]
  },
  {
   "cell_type": "code",
   "execution_count": null,
   "metadata": {
    "collapsed": true
   },
   "outputs": [],
   "source": []
  },
  {
   "cell_type": "code",
   "execution_count": null,
   "metadata": {
    "collapsed": true
   },
   "outputs": [],
   "source": []
  },
  {
   "cell_type": "code",
   "execution_count": null,
   "metadata": {
    "collapsed": true
   },
   "outputs": [],
   "source": []
  },
  {
   "cell_type": "code",
   "execution_count": null,
   "metadata": {
    "collapsed": true
   },
   "outputs": [],
   "source": []
  }
 ],
 "metadata": {
  "kernelspec": {
   "display_name": "Python 3",
   "language": "python",
   "name": "python3"
  },
  "language_info": {
   "codemirror_mode": {
    "name": "ipython",
    "version": 3
   },
   "file_extension": ".py",
   "mimetype": "text/x-python",
   "name": "python",
   "nbconvert_exporter": "python",
   "pygments_lexer": "ipython3",
   "version": "3.5.4"
  }
 },
 "nbformat": 4,
 "nbformat_minor": 2
}
