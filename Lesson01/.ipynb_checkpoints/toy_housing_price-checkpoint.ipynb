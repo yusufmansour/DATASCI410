{
 "cells": [
  {
   "cell_type": "code",
   "execution_count": 93,
   "metadata": {
    "collapsed": true
   },
   "outputs": [],
   "source": [
    "import numpy as np \n",
    "import pandas as pd\n",
    "import matplotlib.pyplot as plt\n",
    "from scipy.stats import skewnorm\n"
   ]
  },
  {
   "cell_type": "code",
   "execution_count": 94,
   "metadata": {
    "collapsed": true
   },
   "outputs": [],
   "source": [
    "# generate data set from city A\n",
    "mode1 = 300 + 50 *np.random.randn(950) # regular homes\n",
    "mode2 = 3000 + 20 *np.random.randn(50)  # luxury homes\n",
    "\n",
    "#combine both data modes into 1 array\n",
    "pricesA = np.append(mode1, mode2) \n",
    "labelsA = [\"A\"]* pricesA.shape[0]\n"
   ]
  },
  {
   "cell_type": "code",
   "execution_count": 95,
   "metadata": {
    "collapsed": true
   },
   "outputs": [],
   "source": [
    "\n",
    "# generate data set from city B\n",
    "pricesB = 400 + 50 *np.random.randn(1000)\n",
    "labelsB = [\"B\"]* pricesA.shape[0]"
   ]
  },
  {
   "cell_type": "code",
   "execution_count": 96,
   "metadata": {
    "collapsed": true
   },
   "outputs": [],
   "source": [
    "#combine both city's data sets\n",
    "price = np.append(pricesA,pricesB)\n",
    "labels = labelsA + labelsB"
   ]
  },
  {
   "cell_type": "code",
   "execution_count": 97,
   "metadata": {
    "collapsed": true
   },
   "outputs": [],
   "source": [
    "# create a data frame of labels and prices, then shuffle the data with the .sample() method to make the data seem more real.\n",
    "\n",
    "df = pd.DataFrame({ \"city\": labels, \"price\": price}, columns=[\"city\", \"price\"]).sample(frac=1)"
   ]
  },
  {
   "cell_type": "code",
   "execution_count": 98,
   "metadata": {},
   "outputs": [
    {
     "data": {
      "text/html": [
       "<div>\n",
       "<table border=\"1\" class=\"dataframe\">\n",
       "  <thead>\n",
       "    <tr style=\"text-align: right;\">\n",
       "      <th></th>\n",
       "      <th>city</th>\n",
       "      <th>price</th>\n",
       "    </tr>\n",
       "  </thead>\n",
       "  <tbody>\n",
       "    <tr>\n",
       "      <th>1960</th>\n",
       "      <td>B</td>\n",
       "      <td>460.654792</td>\n",
       "    </tr>\n",
       "    <tr>\n",
       "      <th>278</th>\n",
       "      <td>A</td>\n",
       "      <td>351.340446</td>\n",
       "    </tr>\n",
       "    <tr>\n",
       "      <th>1452</th>\n",
       "      <td>B</td>\n",
       "      <td>425.676676</td>\n",
       "    </tr>\n",
       "    <tr>\n",
       "      <th>967</th>\n",
       "      <td>A</td>\n",
       "      <td>2979.979785</td>\n",
       "    </tr>\n",
       "    <tr>\n",
       "      <th>1466</th>\n",
       "      <td>B</td>\n",
       "      <td>322.333901</td>\n",
       "    </tr>\n",
       "    <tr>\n",
       "      <th>1321</th>\n",
       "      <td>B</td>\n",
       "      <td>405.577311</td>\n",
       "    </tr>\n",
       "    <tr>\n",
       "      <th>1058</th>\n",
       "      <td>B</td>\n",
       "      <td>437.466100</td>\n",
       "    </tr>\n",
       "    <tr>\n",
       "      <th>1577</th>\n",
       "      <td>B</td>\n",
       "      <td>414.818867</td>\n",
       "    </tr>\n",
       "    <tr>\n",
       "      <th>180</th>\n",
       "      <td>A</td>\n",
       "      <td>269.772142</td>\n",
       "    </tr>\n",
       "    <tr>\n",
       "      <th>605</th>\n",
       "      <td>A</td>\n",
       "      <td>391.213763</td>\n",
       "    </tr>\n",
       "  </tbody>\n",
       "</table>\n",
       "</div>"
      ],
      "text/plain": [
       "     city        price\n",
       "1960    B   460.654792\n",
       "278     A   351.340446\n",
       "1452    B   425.676676\n",
       "967     A  2979.979785\n",
       "1466    B   322.333901\n",
       "1321    B   405.577311\n",
       "1058    B   437.466100\n",
       "1577    B   414.818867\n",
       "180     A   269.772142\n",
       "605     A   391.213763"
      ]
     },
     "execution_count": 98,
     "metadata": {},
     "output_type": "execute_result"
    }
   ],
   "source": [
    "df.head(10)"
   ]
  },
  {
   "cell_type": "code",
   "execution_count": 99,
   "metadata": {},
   "outputs": [
    {
     "data": {
      "text/plain": [
       "Text(0,0.5,'average price ( in $1000s)')"
      ]
     },
     "execution_count": 99,
     "metadata": {},
     "output_type": "execute_result"
    },
    {
     "data": {
      "image/png": "[encoded data removed]",
      "text/plain": [
       "<matplotlib.figure.Figure at 0x19b0db41ac8>"
      ]
     },
     "metadata": {},
     "output_type": "display_data"
    }
   ],
   "source": [
    "%matplotlib inline\n",
    "\n",
    "# deceptive bar plot\n",
    "\n",
    "fig = plt.figure(figsize=(6, 6))\n",
    "ax = fig.gca()\n",
    "#show bar plot of means with altered axis\n",
    "plt.bar(\"A\",df['price'][df['city'] == 'A'].mean())\n",
    "plt.bar(\"B\",df['price'][df['city'] == 'B'].mean())\n",
    "ax.set_ylim(390,450)\n",
    "\n",
    "# add title\n",
    "plt.title(\"Housing Price Comparison\")\n",
    "\n",
    "# add axis labels\n",
    "ax.set_xlabel(\"city\")\n",
    "ax.set_ylabel(\"average price ( in $1000s)\")\n",
    "\n",
    "## multiple issues with this approach:\n",
    "# mean alone is not an appropraite representaion of a sample of data, its'a also good to look at the other statistics, median, standard deviation\n",
    "# a bar plot is inappropriate for this visualization\n",
    "# starting the y-axis far above zero emphasizes a difference in mean when one may not exist \n"
   ]
  },
  {
   "cell_type": "code",
   "execution_count": 114,
   "metadata": {},
   "outputs": [],
   "source": []
  },
  {
   "cell_type": "code",
   "execution_count": 134,
   "metadata": {},
   "outputs": [
    {
     "data": {
      "text/html": [
       "<div>\n",
       "<table border=\"1\" class=\"dataframe\">\n",
       "  <thead>\n",
       "    <tr style=\"text-align: right;\">\n",
       "      <th></th>\n",
       "      <th>count</th>\n",
       "      <th>mean</th>\n",
       "      <th>std</th>\n",
       "      <th>min</th>\n",
       "      <th>25%</th>\n",
       "      <th>50%</th>\n",
       "      <th>75%</th>\n",
       "      <th>max</th>\n",
       "    </tr>\n",
       "  </thead>\n",
       "  <tbody>\n",
       "    <tr>\n",
       "      <th>A</th>\n",
       "      <td>1000.0</td>\n",
       "      <td>433.335247</td>\n",
       "      <td>591.383020</td>\n",
       "      <td>60.698395</td>\n",
       "      <td>266.821183</td>\n",
       "      <td>302.501339</td>\n",
       "      <td>336.935911</td>\n",
       "      <td>3046.487924</td>\n",
       "    </tr>\n",
       "    <tr>\n",
       "      <th>B</th>\n",
       "      <td>1000.0</td>\n",
       "      <td>399.625788</td>\n",
       "      <td>51.059972</td>\n",
       "      <td>237.273402</td>\n",
       "      <td>363.314488</td>\n",
       "      <td>399.340596</td>\n",
       "      <td>432.747973</td>\n",
       "      <td>576.377197</td>\n",
       "    </tr>\n",
       "  </tbody>\n",
       "</table>\n",
       "</div>"
      ],
      "text/plain": [
       "    count        mean         std         min         25%         50%  \\\n",
       "A  1000.0  433.335247  591.383020   60.698395  266.821183  302.501339   \n",
       "B  1000.0  399.625788   51.059972  237.273402  363.314488  399.340596   \n",
       "\n",
       "          75%          max  \n",
       "A  336.935911  3046.487924  \n",
       "B  432.747973   576.377197  "
      ]
     },
     "execution_count": 134,
     "metadata": {},
     "output_type": "execute_result"
    }
   ],
   "source": [
    "#summary statistics:\n",
    "\n",
    "df[\"city\"] = df[\"city\"].astype(\"category\")\n",
    "df2 = pd.DataFrame(group.describe().rename(columns={'price':name}).squeeze()\n",
    "                         for name, group in df.groupby('city'))\n",
    "df2"
   ]
  },
  {
   "cell_type": "code",
   "execution_count": 76,
   "metadata": {
    "collapsed": true
   },
   "outputs": [],
   "source": [
    "#prepare data for plot\n",
    "\n",
    "plotdataA = df['price'][df['city'] == 'A']\n",
    "plotdataB = df['price'][df['city'] == 'B']\n",
    "plotdata = [plotdataA, plotdataB]\n",
    "boxplot_labels = ['A', 'B']"
   ]
  },
  {
   "cell_type": "code",
   "execution_count": 86,
   "metadata": {},
   "outputs": [
    {
     "data": {
      "text/plain": [
       "Text(0.5,0,'prices (in $1000s)')"
      ]
     },
     "execution_count": 86,
     "metadata": {},
     "output_type": "execute_result"
    },
    {
     "data": {
      "image/png": "[encoded data removed]",
      "text/plain": [
       "<matplotlib.figure.Figure at 0x19b16f7e908>"
      ]
     },
     "metadata": {},
     "output_type": "display_data"
    }
   ],
   "source": [
    "#histogram\n",
    "\n",
    "fig = plt.figure(figsize=(12,6))\n",
    "ax = fig.gca()\n",
    "\n",
    "_, bins, _ = ax.hist(plotdataA, bins = 100, alpha =0.5)\n",
    "# we want the bins to be the same for both data sets so we return the bins from the first data set to use in the second\n",
    "ax.hist(plotdataB, bins = bins, alpha =0.5)\n",
    "\n",
    "#create labels\n",
    "ax.set_ylabel(\"counts\")\n",
    "ax.set_xlabel(\"prices (in $1000s)\")"
   ]
  },
  {
   "cell_type": "code",
   "execution_count": 45,
   "metadata": {},
   "outputs": [
    {
     "data": {
      "text/plain": [
       "Text(0,0.5,'prices (in $1000s)')"
      ]
     },
     "execution_count": 45,
     "metadata": {},
     "output_type": "execute_result"
    },
    {
     "data": {
      "image/png": "[encoded data removed]",
      "text/plain": [
       "<matplotlib.figure.Figure at 0x19b0ed872e8>"
      ]
     },
     "metadata": {},
     "output_type": "display_data"
    }
   ],
   "source": [
    "fig = plt.figure(figsize=(6,6))\n",
    "ax = fig.gca()\n",
    "df.loc[:,['price', 'city']].boxplot(by = 'city', ax = ax)\n",
    "ax.set_ylabel(\"prices (in $1000s)\")"
   ]
  },
  {
   "cell_type": "code",
   "execution_count": 59,
   "metadata": {},
   "outputs": [
    {
     "data": {
      "text/plain": [
       "Text(0.5,0,'city')"
      ]
     },
     "execution_count": 59,
     "metadata": {},
     "output_type": "execute_result"
    },
    {
     "data": {
      "image/png": "[encoded data removed]",
      "text/plain": [
       "<matplotlib.figure.Figure at 0x19b11f6b898>"
      ]
     },
     "metadata": {},
     "output_type": "display_data"
    }
   ],
   "source": [
    "## create a plot that's a little better to view\n",
    "from matplotlib import gridspec\n",
    "\n",
    "#create subplots\n",
    "#f, (ax, ax2) = plt.subplots(2, 1, sharex=True, figsize=(6,12))\n",
    "fig = plt.figure(figsize=(6, 12))\n",
    "gs = gridspec.GridSpec(2, 1, height_ratios=[1, 3]) \n",
    "ax = plt.subplot(gs[0])\n",
    "ax2 = plt.subplot(gs[1])\n",
    "\n",
    "#plot the same data in both subplots\n",
    "ax.boxplot(plotdata)\n",
    "ax2.boxplot(plotdata)\n",
    "\n",
    "#create ticks with specified spacing\n",
    "ax.yaxis.set_ticks(np.arange(0,3101, 100))\n",
    "ax2.yaxis.set_ticks(np.arange(0,3101, 100))\n",
    "\n",
    "#zoom in to different parts\n",
    "ax.set_ylim(2900, 3100)  # outliers only\n",
    "ax2.set_ylim(0, 600)  # most of the data\n",
    "\n",
    "# hide the spines between ax and ax2\n",
    "ax.spines['bottom'].set_visible(False)\n",
    "ax2.spines['top'].set_visible(False)\n",
    "ax.tick_params(top='off', bottom='off', labelbottom='off')\n",
    "\n",
    "#add grid\n",
    "ax.grid()\n",
    "ax2.grid()\n",
    "\n",
    "#change tick labels\n",
    "plt.xticks([1, 2], boxplot_labels)\n",
    "\n",
    "#add axis labels and title\n",
    "fig.suptitle(\"Boxplot grouped by city price\")\n",
    "plt.ylabel(\"prices (in $1000s)\")\n",
    "plt.xlabel(\"city\")"
   ]
  },
  {
   "cell_type": "code",
   "execution_count": null,
   "metadata": {
    "collapsed": true
   },
   "outputs": [],
   "source": []
  }
 ],
 "metadata": {
  "kernelspec": {
   "display_name": "Python 3",
   "language": "python",
   "name": "python3"
  },
  "language_info": {
   "codemirror_mode": {
    "name": "ipython",
    "version": 3
   },
   "file_extension": ".py",
   "mimetype": "text/x-python",
   "name": "python",
   "nbconvert_exporter": "python",
   "pygments_lexer": "ipython3",
   "version": "3.5.4"
  }
 },
 "nbformat": 4,
 "nbformat_minor": 2
}
